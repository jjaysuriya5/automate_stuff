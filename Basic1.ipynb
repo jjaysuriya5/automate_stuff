{
 "cells": [
  {
   "cell_type": "code",
   "execution_count": 6,
   "metadata": {},
   "outputs": [
    {
     "name": "stdout",
     "output_type": "stream",
     "text": [
      "This Functions prints if a number is even or odd..\n",
      "The number 10 is Even\n",
      "****************************************************************************************************\n",
      "Print Even Numbers between 1 t0 10\n",
      "2\n",
      "4\n",
      "6\n",
      "8\n",
      "10\n",
      "****************************************************************************************************\n",
      "Print Even Numbers between 1 t0 10\n",
      "2\n",
      "4\n",
      "6\n",
      "8\n",
      "10\n"
     ]
    }
   ],
   "source": [
    "def sep_func():\n",
    "    print('*'*100)\n",
    "    \n",
    "def if_loop():\n",
    "    print( \"This Functions prints if a number is even or odd..\")\n",
    "    n = 10\n",
    "    if n%2 == 0:\n",
    "        print(f'The number {n} is Even')\n",
    "    elif n%2 != 0:\n",
    "        print(f'The number {n} is Odd')\n",
    "        \n",
    "def while_loop():\n",
    "    print('Print Even Numbers between 1 t0 10')\n",
    "    n = 1\n",
    "    while True:\n",
    "        if n<10:\n",
    "            n = n + 1\n",
    "            if n%2 == 1:\n",
    "                continue\n",
    "            else:\n",
    "                print(n)\n",
    "        else:\n",
    "            break\n",
    "    \n",
    "def for_loop():\n",
    "    print('Print Even Numbers between 1 t0 10')  \n",
    "    for i in range( 1 , 11):\n",
    "        if i%2 == 1 :\n",
    "            pass\n",
    "        else:\n",
    "            print(i)\n",
    "        \n",
    "    \n",
    "\n",
    "if __name__ == \"__main__\":\n",
    "    if_loop()\n",
    "    sep_func()\n",
    "    while_loop()\n",
    "    sep_func()\n",
    "    for_loop()"
   ]
  },
  {
   "cell_type": "code",
   "execution_count": null,
   "metadata": {},
   "outputs": [],
   "source": []
  }
 ],
 "metadata": {
  "kernelspec": {
   "display_name": "predicon_play",
   "language": "python",
   "name": "predicon_play"
  },
  "language_info": {
   "codemirror_mode": {
    "name": "ipython",
    "version": 3
   },
   "file_extension": ".py",
   "mimetype": "text/x-python",
   "name": "python",
   "nbconvert_exporter": "python",
   "pygments_lexer": "ipython3",
   "version": "3.7.7"
  }
 },
 "nbformat": 4,
 "nbformat_minor": 4
}
