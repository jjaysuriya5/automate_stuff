{
 "cells": [
  {
   "cell_type": "code",
   "execution_count": 38,
   "metadata": {},
   "outputs": [
    {
     "name": "stdout",
     "output_type": "stream",
     "text": [
      "Numeric data:\n",
      "-------------\n",
      "       Is 5 > 4 --> True\n",
      "       Is 5 >= 4 --> True\n",
      "       Is 5 < 4 --> False\n",
      "       Is 5 < 4 --> False\n",
      "       Is 5 <= 4 --> False\n",
      "       Is 5 == 4 --> False\n",
      "String Data:\n",
      "------------\n",
      "        'A' == 'A' True\n",
      "        'A' == 'a' False\n",
      "        '' == 'a' False\n",
      "Boolean Data:\n",
      "--------------\n",
      "        True == True --> True\n",
      "        True == False --> False\n",
      "        True != True --> False\n",
      "        1 == True --> True\n",
      "        0 == False --> True\n",
      "        'a' == True --> False\n",
      "        '' == False --> False\n"
     ]
    }
   ],
   "source": [
    "def chapter1():\n",
    "    name = input('Enter you name..')\n",
    "    print(f\"Welcome {name}, This is an intro to Python Progamming\")\n",
    "    \n",
    "def func_seperator():\n",
    "    print('*'*100)\n",
    "    \n",
    "def operator_precedence( ):\n",
    "    a = float( input( \"Enter value for a : \") )\n",
    "    b = float( input( \"Enter value for b : \") )\n",
    "    ip = a ** b % b // a / b * b - a + a \n",
    "    print( 'Operation to be performed for the inputs {0} , {1} is - {2}'.format( a, b , 'a ** b % b // a / b * b - a + a ' ) )\n",
    "    print(\"The order of precedence is '** % // / * - +' \")\n",
    "    print(\"Output of the expression is : \" , ip )\n",
    "    \n",
    "def basic_typecasting():\n",
    "    ip = 10\n",
    "    print( f\"Integer {ip} is converted to String {str(ip)}\"  )\n",
    "    print( f\"ip == str(ip) ->> {ip==str(ip)}\")\n",
    "    print( f\"Integer {ip} is converted to String {float(ip)}\" )\n",
    "    print( f\"ip == float(ip) ->> {ip==float(ip)}\")\n",
    "    \n",
    "def comparision():\n",
    "    \n",
    "    print('Numeric data:')\n",
    "    print('-------------')\n",
    "    print( ' '*7+f'Is 5 > 4 --> {5>4}')\n",
    "    print( ' '*7+f'Is 5 >= 4 --> {5>=4}')\n",
    "    print( ' '*7+f'Is 5 < 4 --> {5<4}')\n",
    "    print( ' '*7+f'Is 5 < 4 --> {5<4}')\n",
    "    print( ' '*7+f'Is 5 <= 4 --> {5<=4}')\n",
    "    print( ' '*7+f'Is 5 == 4 --> {5==4}')\n",
    "    print(\"String Data:\")\n",
    "    print('------------')\n",
    "    print( ' '*7+f\" 'A' == 'A' {'A' == 'A'}\")\n",
    "    print( ' '*7+f\" 'A' == 'a' {'A' == 'a'}\")\n",
    "    print( ' '*7+f\" '' == 'a' {'' == 'a'}\")\n",
    "    print('Boolean Data:')\n",
    "    print('--------------')\n",
    "    print(' '*7+f\" True == True --> {True == True}\")\n",
    "    print(' '*7+f\" True == False --> {True == False}\")\n",
    "    print(' '*7+f\" True != True --> {True != True}\")\n",
    "    print(' '*7+f\" 1 == True --> {1 == True}\")\n",
    "    print(' '*7+f\" 0 == False --> {0 == False}\")\n",
    "    print(' '*7+f\" 'a' == True --> {'a' == True}\")\n",
    "    print(' '*7+f\" '' == False --> {'' == False}\")\n",
    "    \n",
    "if __name__ == \"__main__\":\n",
    "    chapter1()\n",
    "    func_seperator()\n",
    "    operator_precedence()\n",
    "    func_seperator()\n",
    "    basic_typecasting()\n",
    "    func_seperator()\n",
    "    comparision()"
   ]
  },
  {
   "cell_type": "code",
   "execution_count": null,
   "metadata": {},
   "outputs": [],
   "source": []
  }
 ],
 "metadata": {
  "kernelspec": {
   "display_name": "predicon_play",
   "language": "python",
   "name": "predicon_play"
  },
  "language_info": {
   "codemirror_mode": {
    "name": "ipython",
    "version": 3
   },
   "file_extension": ".py",
   "mimetype": "text/x-python",
   "name": "python",
   "nbconvert_exporter": "python",
   "pygments_lexer": "ipython3",
   "version": "3.7.7"
  }
 },
 "nbformat": 4,
 "nbformat_minor": 4
}
